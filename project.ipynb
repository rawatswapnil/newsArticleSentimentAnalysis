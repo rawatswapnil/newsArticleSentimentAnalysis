{
 "cells": [
  {
   "cell_type": "code",
   "execution_count": 1,
   "metadata": {},
   "outputs": [],
   "source": [
    "import requests\n",
    "from bs4 import BeautifulSoup\n",
    "import pandas as pd\n",
    "import numpy as np\n",
    "import matplotlib as mpl\n",
    "import matplotlib.pyplot as plt\n",
    "import seaborn as sns\n",
    "import os\n",
    "%matplotlib inline"
   ]
  },
  {
   "cell_type": "code",
   "execution_count": 2,
   "metadata": {},
   "outputs": [],
   "source": [
    "seed_urls = ['https://inshorts.com/en/read/technology',\n",
    "             'https://inshorts.com/en/read/sports',\n",
    "             'https://inshorts.com/en/read/world']\n",
    "\n",
    "def build_dataset(seed_urls):\n",
    "    news_data = []\n",
    "    for url in seed_urls:\n",
    "        news_category = url.split('/')[-1]\n",
    "        data = requests.get(url)\n",
    "        soup = BeautifulSoup(data.content, 'html.parser')\n",
    "        \n",
    "        news_articles = [{'news_headline': headline.find('span', \n",
    "                                                         attrs={\"itemprop\": \"headline\"}).string,\n",
    "                          'news_article': article.find('div', \n",
    "                                                       attrs={\"itemprop\": \"articleBody\"}).string,\n",
    "                          'news_category': news_category}\n",
    "                         \n",
    "                            for headline, article in \n",
    "                             zip(soup.find_all('div', \n",
    "                                               class_=[\"news-card-title news-right-box\"]),\n",
    "                                 soup.find_all('div', \n",
    "                                               class_=[\"news-card-content news-right-box\"]))\n",
    "                        ]\n",
    "        news_data.extend(news_articles)\n",
    "        \n",
    "    df =  pd.DataFrame(news_data)\n",
    "    df = df[['news_headline', 'news_article', 'news_category']]\n",
    "    return df"
   ]
  },
  {
   "cell_type": "code",
   "execution_count": 3,
   "metadata": {},
   "outputs": [
    {
     "data": {
      "text/html": [
       "<div>\n",
       "<style scoped>\n",
       "    .dataframe tbody tr th:only-of-type {\n",
       "        vertical-align: middle;\n",
       "    }\n",
       "\n",
       "    .dataframe tbody tr th {\n",
       "        vertical-align: top;\n",
       "    }\n",
       "\n",
       "    .dataframe thead th {\n",
       "        text-align: right;\n",
       "    }\n",
       "</style>\n",
       "<table border=\"1\" class=\"dataframe\">\n",
       "  <thead>\n",
       "    <tr style=\"text-align: right;\">\n",
       "      <th></th>\n",
       "      <th>news_headline</th>\n",
       "      <th>news_article</th>\n",
       "      <th>news_category</th>\n",
       "    </tr>\n",
       "  </thead>\n",
       "  <tbody>\n",
       "    <tr>\n",
       "      <th>0</th>\n",
       "      <td>E-commerce platform Shopify to let employees w...</td>\n",
       "      <td>After Twitter, Canadian e-commerce website Sho...</td>\n",
       "      <td>technology</td>\n",
       "    </tr>\n",
       "    <tr>\n",
       "      <th>1</th>\n",
       "      <td>Half of Facebook's employees may work from hom...</td>\n",
       "      <td>Facebook will permanently allow remote work ev...</td>\n",
       "      <td>technology</td>\n",
       "    </tr>\n",
       "    <tr>\n",
       "      <th>2</th>\n",
       "      <td>SC seeks Centre's reply on plea for ban on Zoo...</td>\n",
       "      <td>The Supreme Court on Friday sought Centre's re...</td>\n",
       "      <td>technology</td>\n",
       "    </tr>\n",
       "    <tr>\n",
       "      <th>3</th>\n",
       "      <td>Sealed the deal in 10 days over Zoom calls: KK...</td>\n",
       "      <td>US-based private equity firm KKR has said it n...</td>\n",
       "      <td>technology</td>\n",
       "    </tr>\n",
       "    <tr>\n",
       "      <th>4</th>\n",
       "      <td>Aarogya Setu downgraded from 2 to 1 star by MI...</td>\n",
       "      <td>MIT Technology Review has downgraded Aarogya S...</td>\n",
       "      <td>technology</td>\n",
       "    </tr>\n",
       "    <tr>\n",
       "      <th>5</th>\n",
       "      <td>Some of my tweets were definitely extremely du...</td>\n",
       "      <td>Tesla and SpaceX CEO Elon Musk admitted that s...</td>\n",
       "      <td>technology</td>\n",
       "    </tr>\n",
       "    <tr>\n",
       "      <th>6</th>\n",
       "      <td>AI creates new Pac-Man version just by watchin...</td>\n",
       "      <td>On the fortieth anniversary of Pac-Man, graphi...</td>\n",
       "      <td>technology</td>\n",
       "    </tr>\n",
       "    <tr>\n",
       "      <th>7</th>\n",
       "      <td>KKR to invest $1.5 billion in Jio Platforms, i...</td>\n",
       "      <td>US private equity firm KKR will invest $1.5 bi...</td>\n",
       "      <td>technology</td>\n",
       "    </tr>\n",
       "    <tr>\n",
       "      <th>8</th>\n",
       "      <td>Fastest internet speed of 44.2 Tbps recorded, ...</td>\n",
       "      <td>Researchers from Australia's Monash, Swinburne...</td>\n",
       "      <td>technology</td>\n",
       "    </tr>\n",
       "    <tr>\n",
       "      <th>9</th>\n",
       "      <td>TN man says Google Maps creating problems in h...</td>\n",
       "      <td>A 49-year-old man in Tamil Nadu has said he's ...</td>\n",
       "      <td>technology</td>\n",
       "    </tr>\n",
       "  </tbody>\n",
       "</table>\n",
       "</div>"
      ],
      "text/plain": [
       "                                       news_headline  \\\n",
       "0  E-commerce platform Shopify to let employees w...   \n",
       "1  Half of Facebook's employees may work from hom...   \n",
       "2  SC seeks Centre's reply on plea for ban on Zoo...   \n",
       "3  Sealed the deal in 10 days over Zoom calls: KK...   \n",
       "4  Aarogya Setu downgraded from 2 to 1 star by MI...   \n",
       "5  Some of my tweets were definitely extremely du...   \n",
       "6  AI creates new Pac-Man version just by watchin...   \n",
       "7  KKR to invest $1.5 billion in Jio Platforms, i...   \n",
       "8  Fastest internet speed of 44.2 Tbps recorded, ...   \n",
       "9  TN man says Google Maps creating problems in h...   \n",
       "\n",
       "                                        news_article news_category  \n",
       "0  After Twitter, Canadian e-commerce website Sho...    technology  \n",
       "1  Facebook will permanently allow remote work ev...    technology  \n",
       "2  The Supreme Court on Friday sought Centre's re...    technology  \n",
       "3  US-based private equity firm KKR has said it n...    technology  \n",
       "4  MIT Technology Review has downgraded Aarogya S...    technology  \n",
       "5  Tesla and SpaceX CEO Elon Musk admitted that s...    technology  \n",
       "6  On the fortieth anniversary of Pac-Man, graphi...    technology  \n",
       "7  US private equity firm KKR will invest $1.5 bi...    technology  \n",
       "8  Researchers from Australia's Monash, Swinburne...    technology  \n",
       "9  A 49-year-old man in Tamil Nadu has said he's ...    technology  "
      ]
     },
     "execution_count": 3,
     "metadata": {},
     "output_type": "execute_result"
    }
   ],
   "source": [
    "news_df = build_dataset(seed_urls)\n",
    "news_df.head(10)"
   ]
  },
  {
   "cell_type": "code",
   "execution_count": 4,
   "metadata": {},
   "outputs": [
    {
     "data": {
      "text/plain": [
       "world         25\n",
       "sports        25\n",
       "technology    24\n",
       "Name: news_category, dtype: int64"
      ]
     },
     "execution_count": 4,
     "metadata": {},
     "output_type": "execute_result"
    }
   ],
   "source": [
    "news_df.news_category.value_counts()"
   ]
  },
  {
   "cell_type": "code",
   "execution_count": 5,
   "metadata": {},
   "outputs": [],
   "source": [
    "from vaderSentiment.vaderSentiment import SentimentIntensityAnalyzer\n",
    "analyser = SentimentIntensityAnalyzer()"
   ]
  },
  {
   "cell_type": "code",
   "execution_count": 6,
   "metadata": {},
   "outputs": [],
   "source": [
    "sentiment = news_df['news_article'].apply(analyser.polarity_scores)"
   ]
  },
  {
   "cell_type": "code",
   "execution_count": 7,
   "metadata": {},
   "outputs": [
    {
     "data": {
      "text/html": [
       "<div>\n",
       "<style scoped>\n",
       "    .dataframe tbody tr th:only-of-type {\n",
       "        vertical-align: middle;\n",
       "    }\n",
       "\n",
       "    .dataframe tbody tr th {\n",
       "        vertical-align: top;\n",
       "    }\n",
       "\n",
       "    .dataframe thead th {\n",
       "        text-align: right;\n",
       "    }\n",
       "</style>\n",
       "<table border=\"1\" class=\"dataframe\">\n",
       "  <thead>\n",
       "    <tr style=\"text-align: right;\">\n",
       "      <th></th>\n",
       "      <th>sentiment_score</th>\n",
       "      <th>neg</th>\n",
       "      <th>neu</th>\n",
       "      <th>pos</th>\n",
       "    </tr>\n",
       "  </thead>\n",
       "  <tbody>\n",
       "    <tr>\n",
       "      <th>0</th>\n",
       "      <td>0.2263</td>\n",
       "      <td>0.000</td>\n",
       "      <td>0.969</td>\n",
       "      <td>0.031</td>\n",
       "    </tr>\n",
       "    <tr>\n",
       "      <th>1</th>\n",
       "      <td>0.2732</td>\n",
       "      <td>0.037</td>\n",
       "      <td>0.893</td>\n",
       "      <td>0.070</td>\n",
       "    </tr>\n",
       "    <tr>\n",
       "      <th>2</th>\n",
       "      <td>-0.5719</td>\n",
       "      <td>0.122</td>\n",
       "      <td>0.825</td>\n",
       "      <td>0.053</td>\n",
       "    </tr>\n",
       "    <tr>\n",
       "      <th>3</th>\n",
       "      <td>0.2732</td>\n",
       "      <td>0.000</td>\n",
       "      <td>0.948</td>\n",
       "      <td>0.052</td>\n",
       "    </tr>\n",
       "    <tr>\n",
       "      <th>4</th>\n",
       "      <td>-0.7184</td>\n",
       "      <td>0.094</td>\n",
       "      <td>0.906</td>\n",
       "      <td>0.000</td>\n",
       "    </tr>\n",
       "  </tbody>\n",
       "</table>\n",
       "</div>"
      ],
      "text/plain": [
       "   sentiment_score    neg    neu    pos\n",
       "0           0.2263  0.000  0.969  0.031\n",
       "1           0.2732  0.037  0.893  0.070\n",
       "2          -0.5719  0.122  0.825  0.053\n",
       "3           0.2732  0.000  0.948  0.052\n",
       "4          -0.7184  0.094  0.906  0.000"
      ]
     },
     "execution_count": 7,
     "metadata": {},
     "output_type": "execute_result"
    }
   ],
   "source": [
    "sentiment_df = pd.DataFrame(sentiment.tolist())\n",
    "sentiment_df = sentiment_df.rename(columns={'compound':'sentiment_score'})\n",
    "sentiment_df.head()"
   ]
  },
  {
   "cell_type": "code",
   "execution_count": 8,
   "metadata": {},
   "outputs": [],
   "source": [
    "sentiment_df = sentiment_df.drop(columns=['pos','neg','neu'])\n",
    "sentiment_category = ['positive' if compound >= 0.05 \n",
    "                          else 'neutral' if (compound < 0.05) and (compound > -0.05)\n",
    "                              else 'negative' \n",
    "                                  for compound in sentiment_df['sentiment_score']]\n",
    "category_df = pd.DataFrame(sentiment_category,columns=['sentiment_category'])"
   ]
  },
  {
   "cell_type": "code",
   "execution_count": 9,
   "metadata": {},
   "outputs": [],
   "source": [
    "df = pd.concat([news_df,sentiment_df,category_df], axis = 1)"
   ]
  },
  {
   "cell_type": "code",
   "execution_count": 10,
   "metadata": {},
   "outputs": [
    {
     "data": {
      "text/html": [
       "<div>\n",
       "<style scoped>\n",
       "    .dataframe tbody tr th:only-of-type {\n",
       "        vertical-align: middle;\n",
       "    }\n",
       "\n",
       "    .dataframe tbody tr th {\n",
       "        vertical-align: top;\n",
       "    }\n",
       "\n",
       "    .dataframe thead tr th {\n",
       "        text-align: left;\n",
       "    }\n",
       "\n",
       "    .dataframe thead tr:last-of-type th {\n",
       "        text-align: right;\n",
       "    }\n",
       "</style>\n",
       "<table border=\"1\" class=\"dataframe\">\n",
       "  <thead>\n",
       "    <tr>\n",
       "      <th></th>\n",
       "      <th colspan=\"8\" halign=\"left\">sentiment_score</th>\n",
       "    </tr>\n",
       "    <tr>\n",
       "      <th></th>\n",
       "      <th>count</th>\n",
       "      <th>mean</th>\n",
       "      <th>std</th>\n",
       "      <th>min</th>\n",
       "      <th>25%</th>\n",
       "      <th>50%</th>\n",
       "      <th>75%</th>\n",
       "      <th>max</th>\n",
       "    </tr>\n",
       "    <tr>\n",
       "      <th>news_category</th>\n",
       "      <th></th>\n",
       "      <th></th>\n",
       "      <th></th>\n",
       "      <th></th>\n",
       "      <th></th>\n",
       "      <th></th>\n",
       "      <th></th>\n",
       "      <th></th>\n",
       "    </tr>\n",
       "  </thead>\n",
       "  <tbody>\n",
       "    <tr>\n",
       "      <th>sports</th>\n",
       "      <td>25.0</td>\n",
       "      <td>0.114316</td>\n",
       "      <td>0.592105</td>\n",
       "      <td>-0.8957</td>\n",
       "      <td>-0.4019</td>\n",
       "      <td>0.0000</td>\n",
       "      <td>0.7845</td>\n",
       "      <td>0.9476</td>\n",
       "    </tr>\n",
       "    <tr>\n",
       "      <th>technology</th>\n",
       "      <td>24.0</td>\n",
       "      <td>0.122150</td>\n",
       "      <td>0.580843</td>\n",
       "      <td>-0.9001</td>\n",
       "      <td>-0.5497</td>\n",
       "      <td>0.3066</td>\n",
       "      <td>0.5169</td>\n",
       "      <td>0.9169</td>\n",
       "    </tr>\n",
       "    <tr>\n",
       "      <th>world</th>\n",
       "      <td>25.0</td>\n",
       "      <td>-0.173216</td>\n",
       "      <td>0.560568</td>\n",
       "      <td>-0.8934</td>\n",
       "      <td>-0.6124</td>\n",
       "      <td>-0.2075</td>\n",
       "      <td>0.2023</td>\n",
       "      <td>0.8519</td>\n",
       "    </tr>\n",
       "  </tbody>\n",
       "</table>\n",
       "</div>"
      ],
      "text/plain": [
       "              sentiment_score                                              \\\n",
       "                        count      mean       std     min     25%     50%   \n",
       "news_category                                                               \n",
       "sports                   25.0  0.114316  0.592105 -0.8957 -0.4019  0.0000   \n",
       "technology               24.0  0.122150  0.580843 -0.9001 -0.5497  0.3066   \n",
       "world                    25.0 -0.173216  0.560568 -0.8934 -0.6124 -0.2075   \n",
       "\n",
       "                               \n",
       "                  75%     max  \n",
       "news_category                  \n",
       "sports         0.7845  0.9476  \n",
       "technology     0.5169  0.9169  \n",
       "world          0.2023  0.8519  "
      ]
     },
     "execution_count": 10,
     "metadata": {},
     "output_type": "execute_result"
    }
   ],
   "source": [
    "df.groupby(by=['news_category']).describe()"
   ]
  },
  {
   "cell_type": "code",
   "execution_count": 11,
   "metadata": {},
   "outputs": [
    {
     "data": {
      "image/png": "[encoded data removed]",
      "text/plain": [
       "<Figure size 1008x288 with 2 Axes>"
      ]
     },
     "metadata": {
      "needs_background": "light"
     },
     "output_type": "display_data"
    }
   ],
   "source": [
    "f, (ax1, ax2) = plt.subplots(1, 2, figsize=(14, 4))\n",
    "sp = sns.stripplot(x='news_category', y=\"sentiment_score\", \n",
    "                   hue='news_category', data=df, ax=ax1)\n",
    "bp = sns.boxplot(x='news_category', y=\"sentiment_score\", \n",
    "                 hue='news_category', data=df, palette=\"Set2\", ax=ax2)\n",
    "t = f.suptitle('Visualizing News Sentiment', fontsize=14)"
   ]
  },
  {
   "cell_type": "code",
   "execution_count": 12,
   "metadata": {},
   "outputs": [
    {
     "name": "stderr",
     "output_type": "stream",
     "text": [
      "C:\\Users\\rawat\\Anaconda3\\lib\\site-packages\\seaborn\\categorical.py:3666: UserWarning: The `factorplot` function has been renamed to `catplot`. The original name will be removed in a future release. Please update your code. Note that the default `kind` in `factorplot` (`'point'`) has changed `'strip'` in `catplot`.\n",
      "  warnings.warn(msg)\n"
     ]
    },
    {
     "data": {
      "image/png": "[encoded data removed]",
      "text/plain": [
       "<Figure size 467.5x360 with 1 Axes>"
      ]
     },
     "metadata": {
      "needs_background": "light"
     },
     "output_type": "display_data"
    }
   ],
   "source": [
    "fc = sns.factorplot(x=\"news_category\", hue=\"sentiment_category\", \n",
    "                    data=df, kind=\"count\", \n",
    "                    palette={\"negative\": \"#FE2020\", \n",
    "                             \"positive\": \"#BADD07\", \n",
    "                             \"neutral\": \"#68BFF5\"})"
   ]
  },
  {
   "cell_type": "code",
   "execution_count": 13,
   "metadata": {
    "scrolled": true
   },
   "outputs": [],
   "source": [
    "p_score = df[df.news_category=='technology'].sentiment_score.max();\n",
    "n_score = df[df.news_category=='technology'].sentiment_score.min();\n",
    "tpos_idx = df[(df.news_category=='technology') & (df.sentiment_score == p_score)].index[0]\n",
    "tneg_idx = df[(df.news_category=='technology') & (df.sentiment_score == n_score)].index[0]"
   ]
  },
  {
   "cell_type": "code",
   "execution_count": 14,
   "metadata": {},
   "outputs": [],
   "source": [
    "p_score = df[df.news_category=='world'].sentiment_score.max();\n",
    "n_score = df[df.news_category=='world'].sentiment_score.min();\n",
    "wpos_idx = df[(df.news_category=='world') & (df.sentiment_score == p_score)].index[0]\n",
    "wneg_idx = df[(df.news_category=='world') & (df.sentiment_score == n_score)].index[0]"
   ]
  },
  {
   "cell_type": "code",
   "execution_count": 15,
   "metadata": {},
   "outputs": [],
   "source": [
    "p_score = df[df.news_category=='sports'].sentiment_score.max();\n",
    "n_score = df[df.news_category=='sports'].sentiment_score.min();\n",
    "spos_idx = df[(df.news_category=='sports') & (df.sentiment_score == p_score)].index[0]\n",
    "sneg_idx = df[(df.news_category=='sports') & (df.sentiment_score == n_score)].index[0]"
   ]
  },
  {
   "cell_type": "code",
   "execution_count": 16,
   "metadata": {},
   "outputs": [],
   "source": [
    "fc.savefig(\"graph.png\")"
   ]
  },
  {
   "cell_type": "code",
   "execution_count": 18,
   "metadata": {},
   "outputs": [],
   "source": [
    "tn = news_df.iloc[tneg_idx][['news_headline']][0]\n",
    "tp = news_df.iloc[tpos_idx][['news_headline']][0]\n",
    "wn = news_df.iloc[wneg_idx][['news_headline']][0]\n",
    "wp = news_df.iloc[wpos_idx][['news_headline']][0]\n",
    "sn = news_df.iloc[sneg_idx][['news_headline']][0]\n",
    "sp = news_df.iloc[spos_idx][['news_headline']][0]\n",
    "\n",
    "from tkinter import *\n",
    "\n",
    "root = Tk()\n",
    "\n",
    "def onClick():\n",
    "    text.set(\"Most Negative Technology News Article: \"+tn+\"\\n\"\n",
    "             +\"Most Positive Technology News Article: \"+tp+\"\\n\\n\"\n",
    "             +\"Most Negative World News Article: \"+wn+\"\\n\"\n",
    "             +\"Most Positive World News Article: \"+wp+\"\\n\\n\"\n",
    "             +\"Most Negative Sports News Article: \"+sn+\"\\n\"\n",
    "             +\"Most Positive Sports News Article: \"+sp)\n",
    "\n",
    "text = StringVar()\n",
    "root.geometry(\"644x434\")\n",
    "root.title(\"Created By Swapnil\")\n",
    "root.minsize(200,100)\n",
    "root.maxsize(1200,988)\n",
    "l = Label(text=\"Sentiment Analysis\",fg=\"blue\",font=(\"comicsansms\",19,\"bold\"),borderwidth=3,relief=SUNKEN)\n",
    "l.pack()\n",
    "b = Button(text=\"click me\",fg=\"blue\",command = onClick)\n",
    "b.pack()\n",
    "c = Canvas(bg=\"white\",width=\"500\",height=\"400\")\n",
    "c.pack()\n",
    "out = Label(textvariable=text)\n",
    "out.pack()\n",
    "img = PhotoImage(file=\"graph.png\")\n",
    "c.create_image(250,200,image=img)\n",
    "root.mainloop()"
   ]
  },
  {
   "cell_type": "code",
   "execution_count": null,
   "metadata": {},
   "outputs": [],
   "source": []
  }
 ],
 "metadata": {
  "kernelspec": {
   "display_name": "Python 3",
   "language": "python",
   "name": "python3"
  },
  "language_info": {
   "codemirror_mode": {
    "name": "ipython",
    "version": 3
   },
   "file_extension": ".py",
   "mimetype": "text/x-python",
   "name": "python",
   "nbconvert_exporter": "python",
   "pygments_lexer": "ipython3",
   "version": "3.7.3"
  }
 },
 "nbformat": 4,
 "nbformat_minor": 2
}
